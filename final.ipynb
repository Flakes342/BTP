{
 "cells": [
  {
   "cell_type": "code",
   "execution_count": 1,
   "id": "b5b7043a",
   "metadata": {
    "_cell_guid": "fe0c7b64-4a12-4a3b-9f7f-461d8ffe46d5",
    "_uuid": "63b855d4-524b-4ab5-bf81-16d85d2776db",
    "collapsed": false,
    "execution": {
     "iopub.execute_input": "2022-11-21T19:41:12.125681Z",
     "iopub.status.busy": "2022-11-21T19:41:12.125269Z",
     "iopub.status.idle": "2022-11-21T19:41:13.251872Z",
     "shell.execute_reply": "2022-11-21T19:41:13.250220Z"
    },
    "jupyter": {
     "outputs_hidden": false
    },
    "papermill": {
     "duration": 1.137697,
     "end_time": "2022-11-21T19:41:13.254435",
     "exception": false,
     "start_time": "2022-11-21T19:41:12.116738",
     "status": "completed"
    },
    "tags": []
   },
   "outputs": [
    {
     "name": "stdout",
     "output_type": "stream",
     "text": [
      "/kaggle/input/2022-neww/2022_new.csv\n",
      "/kaggle/input/2019-new/2019_new.csv\n",
      "/kaggle/input/2021-new/2021_new.csv\n"
     ]
    }
   ],
   "source": [
    "import numpy as np\n",
    "import pandas as pd\n",
    "import pandas\n",
    "import xgboost\n",
    "import warnings\n",
    "warnings.filterwarnings('ignore')\n",
    "\n",
    "from sklearn.model_selection import train_test_split\n",
    "from sklearn.metrics import mean_squared_error, r2_score\n",
    "import os\n",
    "for dirname, _, filenames in os.walk('/kaggle/input'):\n",
    "    for filename in filenames:\n",
    "        print(os.path.join(dirname, filename))"
   ]
  },
  {
   "cell_type": "markdown",
   "id": "738158a1",
   "metadata": {
    "_cell_guid": "c6b82bf9-541c-4d29-9975-d0b7d48dee0b",
    "_uuid": "add37f9f-64d0-40fa-b896-e6044ed9a183",
    "papermill": {
     "duration": 0.005589,
     "end_time": "2022-11-21T19:41:13.266066",
     "exception": false,
     "start_time": "2022-11-21T19:41:13.260477",
     "status": "completed"
    },
    "tags": []
   },
   "source": [
    "**Importing the 2022 dataset**"
   ]
  },
  {
   "cell_type": "code",
   "execution_count": 2,
   "id": "5c8efcc6",
   "metadata": {
    "_cell_guid": "941ecdba-60b2-4be5-9e6b-9568404bff9e",
    "_uuid": "734cdecf-c961-4d61-8b88-62fb908567b9",
    "collapsed": false,
    "execution": {
     "iopub.execute_input": "2022-11-21T19:41:13.279448Z",
     "iopub.status.busy": "2022-11-21T19:41:13.278586Z",
     "iopub.status.idle": "2022-11-21T19:41:13.327502Z",
     "shell.execute_reply": "2022-11-21T19:41:13.326107Z"
    },
    "jupyter": {
     "outputs_hidden": false
    },
    "papermill": {
     "duration": 0.058325,
     "end_time": "2022-11-21T19:41:13.330012",
     "exception": false,
     "start_time": "2022-11-21T19:41:13.271687",
     "status": "completed"
    },
    "tags": []
   },
   "outputs": [
    {
     "data": {
      "text/html": [
       "<div>\n",
       "<style scoped>\n",
       "    .dataframe tbody tr th:only-of-type {\n",
       "        vertical-align: middle;\n",
       "    }\n",
       "\n",
       "    .dataframe tbody tr th {\n",
       "        vertical-align: top;\n",
       "    }\n",
       "\n",
       "    .dataframe thead th {\n",
       "        text-align: right;\n",
       "    }\n",
       "</style>\n",
       "<table border=\"1\" class=\"dataframe\">\n",
       "  <thead>\n",
       "    <tr style=\"text-align: right;\">\n",
       "      <th></th>\n",
       "      <th>Date</th>\n",
       "      <th>Chiller Energy 2022 (kWh)</th>\n",
       "      <th>PAC Energy 2022 (kWh)</th>\n",
       "      <th>Cooling Energy 2022 (kWh)</th>\n",
       "      <th>Chiller Load 2022 (kW)</th>\n",
       "      <th>PAC Load 2022 (kW)</th>\n",
       "      <th>Cooling Load 2022 (kW)</th>\n",
       "      <th>IT Load 2022 (kW)</th>\n",
       "      <th>WBT (C)</th>\n",
       "      <th>Temp (C)</th>\n",
       "      <th>Humidity</th>\n",
       "      <th>PUE (2022)</th>\n",
       "    </tr>\n",
       "  </thead>\n",
       "  <tbody>\n",
       "    <tr>\n",
       "      <th>0</th>\n",
       "      <td>03-11-2021</td>\n",
       "      <td>1833516</td>\n",
       "      <td>1152446</td>\n",
       "      <td>2985962</td>\n",
       "      <td>56.82</td>\n",
       "      <td>48.90</td>\n",
       "      <td>105.72</td>\n",
       "      <td>281.74</td>\n",
       "      <td>18.06</td>\n",
       "      <td>23.32</td>\n",
       "      <td>63.15</td>\n",
       "      <td>1.44</td>\n",
       "    </tr>\n",
       "    <tr>\n",
       "      <th>1</th>\n",
       "      <td>03-12-2021</td>\n",
       "      <td>1834836</td>\n",
       "      <td>1153619</td>\n",
       "      <td>2988455</td>\n",
       "      <td>58.09</td>\n",
       "      <td>50.71</td>\n",
       "      <td>108.80</td>\n",
       "      <td>287.77</td>\n",
       "      <td>18.20</td>\n",
       "      <td>23.83</td>\n",
       "      <td>61.11</td>\n",
       "      <td>1.44</td>\n",
       "    </tr>\n",
       "    <tr>\n",
       "      <th>2</th>\n",
       "      <td>3-13-2021</td>\n",
       "      <td>1836199</td>\n",
       "      <td>1154791</td>\n",
       "      <td>2990990</td>\n",
       "      <td>58.23</td>\n",
       "      <td>48.82</td>\n",
       "      <td>107.05</td>\n",
       "      <td>285.26</td>\n",
       "      <td>19.95</td>\n",
       "      <td>24.98</td>\n",
       "      <td>64.85</td>\n",
       "      <td>1.45</td>\n",
       "    </tr>\n",
       "    <tr>\n",
       "      <th>3</th>\n",
       "      <td>3-14-2021</td>\n",
       "      <td>1837605</td>\n",
       "      <td>1155953</td>\n",
       "      <td>2993558</td>\n",
       "      <td>75.23</td>\n",
       "      <td>48.42</td>\n",
       "      <td>123.65</td>\n",
       "      <td>279.38</td>\n",
       "      <td>20.96</td>\n",
       "      <td>25.79</td>\n",
       "      <td>67.13</td>\n",
       "      <td>1.47</td>\n",
       "    </tr>\n",
       "    <tr>\n",
       "      <th>4</th>\n",
       "      <td>3-15-2021</td>\n",
       "      <td>1838903</td>\n",
       "      <td>1157109</td>\n",
       "      <td>2996012</td>\n",
       "      <td>46.63</td>\n",
       "      <td>48.85</td>\n",
       "      <td>95.48</td>\n",
       "      <td>278.43</td>\n",
       "      <td>21.58</td>\n",
       "      <td>27.14</td>\n",
       "      <td>64.39</td>\n",
       "      <td>1.46</td>\n",
       "    </tr>\n",
       "    <tr>\n",
       "      <th>...</th>\n",
       "      <td>...</td>\n",
       "      <td>...</td>\n",
       "      <td>...</td>\n",
       "      <td>...</td>\n",
       "      <td>...</td>\n",
       "      <td>...</td>\n",
       "      <td>...</td>\n",
       "      <td>...</td>\n",
       "      <td>...</td>\n",
       "      <td>...</td>\n",
       "      <td>...</td>\n",
       "      <td>...</td>\n",
       "    </tr>\n",
       "    <tr>\n",
       "      <th>203</th>\n",
       "      <td>10-22-2021</td>\n",
       "      <td>78286</td>\n",
       "      <td>421091</td>\n",
       "      <td>499377</td>\n",
       "      <td>40.23</td>\n",
       "      <td>60.55</td>\n",
       "      <td>100.78</td>\n",
       "      <td>311.29</td>\n",
       "      <td>19.04</td>\n",
       "      <td>24.14</td>\n",
       "      <td>64.50</td>\n",
       "      <td>1.49</td>\n",
       "    </tr>\n",
       "    <tr>\n",
       "      <th>204</th>\n",
       "      <td>10-23-2021</td>\n",
       "      <td>79242</td>\n",
       "      <td>422520</td>\n",
       "      <td>501762</td>\n",
       "      <td>40.42</td>\n",
       "      <td>59.32</td>\n",
       "      <td>99.74</td>\n",
       "      <td>306.06</td>\n",
       "      <td>17.99</td>\n",
       "      <td>22.61</td>\n",
       "      <td>66.52</td>\n",
       "      <td>1.50</td>\n",
       "    </tr>\n",
       "    <tr>\n",
       "      <th>205</th>\n",
       "      <td>10-24-2021</td>\n",
       "      <td>80193</td>\n",
       "      <td>423888</td>\n",
       "      <td>504081</td>\n",
       "      <td>42.49</td>\n",
       "      <td>56.96</td>\n",
       "      <td>99.45</td>\n",
       "      <td>297.45</td>\n",
       "      <td>18.20</td>\n",
       "      <td>22.88</td>\n",
       "      <td>65.83</td>\n",
       "      <td>1.50</td>\n",
       "    </tr>\n",
       "    <tr>\n",
       "      <th>206</th>\n",
       "      <td>10-30-2021</td>\n",
       "      <td>85962</td>\n",
       "      <td>432106</td>\n",
       "      <td>518068</td>\n",
       "      <td>48.87</td>\n",
       "      <td>60.29</td>\n",
       "      <td>109.16</td>\n",
       "      <td>299.67</td>\n",
       "      <td>18.00</td>\n",
       "      <td>21.84</td>\n",
       "      <td>71.07</td>\n",
       "      <td>1.53</td>\n",
       "    </tr>\n",
       "    <tr>\n",
       "      <th>207</th>\n",
       "      <td>10-31-2021</td>\n",
       "      <td>87001</td>\n",
       "      <td>433424</td>\n",
       "      <td>520425</td>\n",
       "      <td>44.39</td>\n",
       "      <td>54.67</td>\n",
       "      <td>99.06</td>\n",
       "      <td>304.02</td>\n",
       "      <td>18.39</td>\n",
       "      <td>21.88</td>\n",
       "      <td>73.15</td>\n",
       "      <td>1.52</td>\n",
       "    </tr>\n",
       "  </tbody>\n",
       "</table>\n",
       "<p>208 rows × 12 columns</p>\n",
       "</div>"
      ],
      "text/plain": [
       "           Date  Chiller Energy 2022 (kWh)  PAC Energy 2022 (kWh)  \\\n",
       "0    03-11-2021                    1833516                1152446   \n",
       "1    03-12-2021                    1834836                1153619   \n",
       "2     3-13-2021                    1836199                1154791   \n",
       "3     3-14-2021                    1837605                1155953   \n",
       "4     3-15-2021                    1838903                1157109   \n",
       "..          ...                        ...                    ...   \n",
       "203  10-22-2021                      78286                 421091   \n",
       "204  10-23-2021                      79242                 422520   \n",
       "205  10-24-2021                      80193                 423888   \n",
       "206  10-30-2021                      85962                 432106   \n",
       "207  10-31-2021                      87001                 433424   \n",
       "\n",
       "     Cooling Energy 2022 (kWh)  Chiller Load 2022 (kW)  PAC Load 2022 (kW)  \\\n",
       "0                      2985962                   56.82               48.90   \n",
       "1                      2988455                   58.09               50.71   \n",
       "2                      2990990                   58.23               48.82   \n",
       "3                      2993558                   75.23               48.42   \n",
       "4                      2996012                   46.63               48.85   \n",
       "..                         ...                     ...                 ...   \n",
       "203                     499377                   40.23               60.55   \n",
       "204                     501762                   40.42               59.32   \n",
       "205                     504081                   42.49               56.96   \n",
       "206                     518068                   48.87               60.29   \n",
       "207                     520425                   44.39               54.67   \n",
       "\n",
       "     Cooling Load 2022 (kW)  IT Load 2022 (kW)  WBT (C)  Temp (C)  Humidity  \\\n",
       "0                    105.72             281.74    18.06     23.32     63.15   \n",
       "1                    108.80             287.77    18.20     23.83     61.11   \n",
       "2                    107.05             285.26    19.95     24.98     64.85   \n",
       "3                    123.65             279.38    20.96     25.79     67.13   \n",
       "4                     95.48             278.43    21.58     27.14     64.39   \n",
       "..                      ...                ...      ...       ...       ...   \n",
       "203                  100.78             311.29    19.04     24.14     64.50   \n",
       "204                   99.74             306.06    17.99     22.61     66.52   \n",
       "205                   99.45             297.45    18.20     22.88     65.83   \n",
       "206                  109.16             299.67    18.00     21.84     71.07   \n",
       "207                   99.06             304.02    18.39     21.88     73.15   \n",
       "\n",
       "     PUE (2022)  \n",
       "0          1.44  \n",
       "1          1.44  \n",
       "2          1.45  \n",
       "3          1.47  \n",
       "4          1.46  \n",
       "..          ...  \n",
       "203        1.49  \n",
       "204        1.50  \n",
       "205        1.50  \n",
       "206        1.53  \n",
       "207        1.52  \n",
       "\n",
       "[208 rows x 12 columns]"
      ]
     },
     "execution_count": 2,
     "metadata": {},
     "output_type": "execute_result"
    }
   ],
   "source": [
    "df1 = pd.read_csv('/kaggle/input/2022-neww/2022_new.csv')\n",
    "r1 = df1[[\"Cooling Load 2022 (kW)\",\"IT Load 2022 (kW)\",\"WBT (C)\",\"Temp (C)\",\"Humidity\"]]\n",
    "r2 = df1[\"PUE (2022)\"]\n",
    "df1"
   ]
  },
  {
   "cell_type": "markdown",
   "id": "c38d862d",
   "metadata": {
    "_cell_guid": "6904d978-12d5-4e3c-9b67-52abf72c889f",
    "_uuid": "abd2b7eb-db55-4d82-a0ce-bb5d614de3b3",
    "papermill": {
     "duration": 0.005795,
     "end_time": "2022-11-21T19:41:13.342144",
     "exception": false,
     "start_time": "2022-11-21T19:41:13.336349",
     "status": "completed"
    },
    "tags": []
   },
   "source": [
    "**Importing the 2021 dataset**"
   ]
  },
  {
   "cell_type": "code",
   "execution_count": 3,
   "id": "ebde0706",
   "metadata": {
    "_cell_guid": "7f01b4a9-a671-45dd-a51f-4b07a1d6f9f4",
    "_uuid": "cdf9f28c-a08f-4ff4-9c3c-5905be23b90f",
    "collapsed": false,
    "execution": {
     "iopub.execute_input": "2022-11-21T19:41:13.355731Z",
     "iopub.status.busy": "2022-11-21T19:41:13.355360Z",
     "iopub.status.idle": "2022-11-21T19:41:13.385657Z",
     "shell.execute_reply": "2022-11-21T19:41:13.384195Z"
    },
    "jupyter": {
     "outputs_hidden": false
    },
    "papermill": {
     "duration": 0.040046,
     "end_time": "2022-11-21T19:41:13.388092",
     "exception": false,
     "start_time": "2022-11-21T19:41:13.348046",
     "status": "completed"
    },
    "tags": []
   },
   "outputs": [
    {
     "data": {
      "text/html": [
       "<div>\n",
       "<style scoped>\n",
       "    .dataframe tbody tr th:only-of-type {\n",
       "        vertical-align: middle;\n",
       "    }\n",
       "\n",
       "    .dataframe tbody tr th {\n",
       "        vertical-align: top;\n",
       "    }\n",
       "\n",
       "    .dataframe thead th {\n",
       "        text-align: right;\n",
       "    }\n",
       "</style>\n",
       "<table border=\"1\" class=\"dataframe\">\n",
       "  <thead>\n",
       "    <tr style=\"text-align: right;\">\n",
       "      <th></th>\n",
       "      <th>Date</th>\n",
       "      <th>Chiller Energy 2021 (kWh)</th>\n",
       "      <th>PAC Energy 2021 (kWh)</th>\n",
       "      <th>Cooling Energy 2021 (kWh)</th>\n",
       "      <th>Chiller Load 2021 (kW)</th>\n",
       "      <th>PAC Load 2021 (kW)</th>\n",
       "      <th>Cooling Load 2021 (kW)</th>\n",
       "      <th>IT Load 2021 (kW)</th>\n",
       "      <th>WBT (C)</th>\n",
       "      <th>Temp (C)</th>\n",
       "      <th>Humidity</th>\n",
       "      <th>PUE (2021)</th>\n",
       "    </tr>\n",
       "  </thead>\n",
       "  <tbody>\n",
       "    <tr>\n",
       "      <th>0</th>\n",
       "      <td>3-11-2021</td>\n",
       "      <td>965585</td>\n",
       "      <td>1773672</td>\n",
       "      <td>27,39,257.00</td>\n",
       "      <td>54.70</td>\n",
       "      <td>46.44</td>\n",
       "      <td>101.14</td>\n",
       "      <td>306.00</td>\n",
       "      <td>22.39</td>\n",
       "      <td>29.43</td>\n",
       "      <td>57.09</td>\n",
       "      <td>1.43</td>\n",
       "    </tr>\n",
       "    <tr>\n",
       "      <th>1</th>\n",
       "      <td>3-12-2021</td>\n",
       "      <td>1515036</td>\n",
       "      <td>1774711</td>\n",
       "      <td>32,89,747.00</td>\n",
       "      <td>53.81</td>\n",
       "      <td>48.02</td>\n",
       "      <td>101.83</td>\n",
       "      <td>301.45</td>\n",
       "      <td>20.00</td>\n",
       "      <td>27.09</td>\n",
       "      <td>53.83</td>\n",
       "      <td>1.42</td>\n",
       "    </tr>\n",
       "    <tr>\n",
       "      <th>2</th>\n",
       "      <td>3-13-2021</td>\n",
       "      <td>1516295</td>\n",
       "      <td>1775721</td>\n",
       "      <td>32,92,016.00</td>\n",
       "      <td>52.24</td>\n",
       "      <td>46.35</td>\n",
       "      <td>98.59</td>\n",
       "      <td>296.56</td>\n",
       "      <td>20.20</td>\n",
       "      <td>27.00</td>\n",
       "      <td>56.09</td>\n",
       "      <td>1.42</td>\n",
       "    </tr>\n",
       "    <tr>\n",
       "      <th>3</th>\n",
       "      <td>3-14-2021</td>\n",
       "      <td>1517670</td>\n",
       "      <td>1776756</td>\n",
       "      <td>32,94,426.00</td>\n",
       "      <td>56.28</td>\n",
       "      <td>46.65</td>\n",
       "      <td>102.93</td>\n",
       "      <td>301.68</td>\n",
       "      <td>19.55</td>\n",
       "      <td>26.23</td>\n",
       "      <td>56.56</td>\n",
       "      <td>1.42</td>\n",
       "    </tr>\n",
       "    <tr>\n",
       "      <th>4</th>\n",
       "      <td>3-15-2021</td>\n",
       "      <td>1518924</td>\n",
       "      <td>1777812</td>\n",
       "      <td>32,96,736.00</td>\n",
       "      <td>53.18</td>\n",
       "      <td>56.86</td>\n",
       "      <td>110.04</td>\n",
       "      <td>298.34</td>\n",
       "      <td>20.50</td>\n",
       "      <td>27.09</td>\n",
       "      <td>57.27</td>\n",
       "      <td>1.42</td>\n",
       "    </tr>\n",
       "    <tr>\n",
       "      <th>...</th>\n",
       "      <td>...</td>\n",
       "      <td>...</td>\n",
       "      <td>...</td>\n",
       "      <td>...</td>\n",
       "      <td>...</td>\n",
       "      <td>...</td>\n",
       "      <td>...</td>\n",
       "      <td>...</td>\n",
       "      <td>...</td>\n",
       "      <td>...</td>\n",
       "      <td>...</td>\n",
       "      <td>...</td>\n",
       "    </tr>\n",
       "    <tr>\n",
       "      <th>216</th>\n",
       "      <td>10-24-2021</td>\n",
       "      <td>1766724</td>\n",
       "      <td>1008168</td>\n",
       "      <td>27,74,892.00</td>\n",
       "      <td>41.24</td>\n",
       "      <td>63.11</td>\n",
       "      <td>104.35</td>\n",
       "      <td>269.46</td>\n",
       "      <td>20.96</td>\n",
       "      <td>24.90</td>\n",
       "      <td>72.17</td>\n",
       "      <td>1.41</td>\n",
       "    </tr>\n",
       "    <tr>\n",
       "      <th>217</th>\n",
       "      <td>10-28-2021</td>\n",
       "      <td>1770835</td>\n",
       "      <td>1011633</td>\n",
       "      <td>27,82,468.00</td>\n",
       "      <td>44.65</td>\n",
       "      <td>36.93</td>\n",
       "      <td>81.58</td>\n",
       "      <td>297.36</td>\n",
       "      <td>18.80</td>\n",
       "      <td>23.30</td>\n",
       "      <td>67.36</td>\n",
       "      <td>1.35</td>\n",
       "    </tr>\n",
       "    <tr>\n",
       "      <th>218</th>\n",
       "      <td>10-29-2021</td>\n",
       "      <td>1771829</td>\n",
       "      <td>1012478</td>\n",
       "      <td>27,84,307.00</td>\n",
       "      <td>45.71</td>\n",
       "      <td>36.34</td>\n",
       "      <td>82.05</td>\n",
       "      <td>295.35</td>\n",
       "      <td>19.22</td>\n",
       "      <td>23.42</td>\n",
       "      <td>69.05</td>\n",
       "      <td>1.35</td>\n",
       "    </tr>\n",
       "    <tr>\n",
       "      <th>219</th>\n",
       "      <td>10-30-2021</td>\n",
       "      <td>1772876</td>\n",
       "      <td>1013323</td>\n",
       "      <td>27,86,199.00</td>\n",
       "      <td>45.29</td>\n",
       "      <td>37.09</td>\n",
       "      <td>82.38</td>\n",
       "      <td>293.98</td>\n",
       "      <td>18.20</td>\n",
       "      <td>23.45</td>\n",
       "      <td>62.85</td>\n",
       "      <td>1.34</td>\n",
       "    </tr>\n",
       "    <tr>\n",
       "      <th>220</th>\n",
       "      <td>10-31-2021</td>\n",
       "      <td>1773991</td>\n",
       "      <td>1014160</td>\n",
       "      <td>27,88,151.00</td>\n",
       "      <td>45.80</td>\n",
       "      <td>35.14</td>\n",
       "      <td>80.94</td>\n",
       "      <td>290.58</td>\n",
       "      <td>18.07</td>\n",
       "      <td>22.95</td>\n",
       "      <td>64.64</td>\n",
       "      <td>1.35</td>\n",
       "    </tr>\n",
       "  </tbody>\n",
       "</table>\n",
       "<p>221 rows × 12 columns</p>\n",
       "</div>"
      ],
      "text/plain": [
       "           Date  Chiller Energy 2021 (kWh)  PAC Energy 2021 (kWh)  \\\n",
       "0     3-11-2021                     965585                1773672   \n",
       "1     3-12-2021                    1515036                1774711   \n",
       "2     3-13-2021                    1516295                1775721   \n",
       "3     3-14-2021                    1517670                1776756   \n",
       "4     3-15-2021                    1518924                1777812   \n",
       "..          ...                        ...                    ...   \n",
       "216  10-24-2021                    1766724                1008168   \n",
       "217  10-28-2021                    1770835                1011633   \n",
       "218  10-29-2021                    1771829                1012478   \n",
       "219  10-30-2021                    1772876                1013323   \n",
       "220  10-31-2021                    1773991                1014160   \n",
       "\n",
       "    Cooling Energy 2021 (kWh)  Chiller Load 2021 (kW)  PAC Load 2021 (kW)  \\\n",
       "0                27,39,257.00                   54.70               46.44   \n",
       "1                32,89,747.00                   53.81               48.02   \n",
       "2                32,92,016.00                   52.24               46.35   \n",
       "3                32,94,426.00                   56.28               46.65   \n",
       "4                32,96,736.00                   53.18               56.86   \n",
       "..                        ...                     ...                 ...   \n",
       "216              27,74,892.00                   41.24               63.11   \n",
       "217              27,82,468.00                   44.65               36.93   \n",
       "218              27,84,307.00                   45.71               36.34   \n",
       "219              27,86,199.00                   45.29               37.09   \n",
       "220              27,88,151.00                   45.80               35.14   \n",
       "\n",
       "     Cooling Load 2021 (kW)  IT Load 2021 (kW)  WBT (C)  Temp (C)  Humidity  \\\n",
       "0                    101.14             306.00    22.39     29.43     57.09   \n",
       "1                    101.83             301.45    20.00     27.09     53.83   \n",
       "2                     98.59             296.56    20.20     27.00     56.09   \n",
       "3                    102.93             301.68    19.55     26.23     56.56   \n",
       "4                    110.04             298.34    20.50     27.09     57.27   \n",
       "..                      ...                ...      ...       ...       ...   \n",
       "216                  104.35             269.46    20.96     24.90     72.17   \n",
       "217                   81.58             297.36    18.80     23.30     67.36   \n",
       "218                   82.05             295.35    19.22     23.42     69.05   \n",
       "219                   82.38             293.98    18.20     23.45     62.85   \n",
       "220                   80.94             290.58    18.07     22.95     64.64   \n",
       "\n",
       "     PUE (2021)  \n",
       "0          1.43  \n",
       "1          1.42  \n",
       "2          1.42  \n",
       "3          1.42  \n",
       "4          1.42  \n",
       "..          ...  \n",
       "216        1.41  \n",
       "217        1.35  \n",
       "218        1.35  \n",
       "219        1.34  \n",
       "220        1.35  \n",
       "\n",
       "[221 rows x 12 columns]"
      ]
     },
     "execution_count": 3,
     "metadata": {},
     "output_type": "execute_result"
    }
   ],
   "source": [
    "df2 = pd.read_csv('/kaggle/input/2021-new/2021_new.csv')\n",
    "df2"
   ]
  },
  {
   "cell_type": "markdown",
   "id": "e7024b14",
   "metadata": {
    "_cell_guid": "23f80a83-9160-4994-a894-60ad61307f4d",
    "_uuid": "6d925260-8938-4cf9-8acc-b3febf8d1fb3",
    "papermill": {
     "duration": 0.00594,
     "end_time": "2022-11-21T19:41:13.400624",
     "exception": false,
     "start_time": "2022-11-21T19:41:13.394684",
     "status": "completed"
    },
    "tags": []
   },
   "source": [
    "**Importing the 2019 dataset**"
   ]
  },
  {
   "cell_type": "code",
   "execution_count": 4,
   "id": "d73946ca",
   "metadata": {
    "_cell_guid": "a6219988-c1da-42b2-a9ea-401bc10e9a43",
    "_uuid": "5e586f84-1629-4ddd-98b7-2f1f6ca4d9e2",
    "collapsed": false,
    "execution": {
     "iopub.execute_input": "2022-11-21T19:41:13.414587Z",
     "iopub.status.busy": "2022-11-21T19:41:13.414234Z",
     "iopub.status.idle": "2022-11-21T19:41:13.442913Z",
     "shell.execute_reply": "2022-11-21T19:41:13.442035Z"
    },
    "jupyter": {
     "outputs_hidden": false
    },
    "papermill": {
     "duration": 0.038088,
     "end_time": "2022-11-21T19:41:13.444917",
     "exception": false,
     "start_time": "2022-11-21T19:41:13.406829",
     "status": "completed"
    },
    "tags": []
   },
   "outputs": [
    {
     "data": {
      "text/html": [
       "<div>\n",
       "<style scoped>\n",
       "    .dataframe tbody tr th:only-of-type {\n",
       "        vertical-align: middle;\n",
       "    }\n",
       "\n",
       "    .dataframe tbody tr th {\n",
       "        vertical-align: top;\n",
       "    }\n",
       "\n",
       "    .dataframe thead th {\n",
       "        text-align: right;\n",
       "    }\n",
       "</style>\n",
       "<table border=\"1\" class=\"dataframe\">\n",
       "  <thead>\n",
       "    <tr style=\"text-align: right;\">\n",
       "      <th></th>\n",
       "      <th>Date</th>\n",
       "      <th>Chiller Energy 2019 (kWh)</th>\n",
       "      <th>PAC Energy 2019 (kWh)</th>\n",
       "      <th>Cooling Energy 2019 (kWh)</th>\n",
       "      <th>Chiller Load 2019 (kW)</th>\n",
       "      <th>PAC Load 2019 (kW)</th>\n",
       "      <th>Cooling Load 2019 (kW)</th>\n",
       "      <th>IT Load 2019 (kW)</th>\n",
       "      <th>WBT (C)</th>\n",
       "      <th>Temp (C)</th>\n",
       "      <th>Humidity</th>\n",
       "      <th>PUE (2019)</th>\n",
       "    </tr>\n",
       "  </thead>\n",
       "  <tbody>\n",
       "    <tr>\n",
       "      <th>0</th>\n",
       "      <td>3-11-2021</td>\n",
       "      <td>893031</td>\n",
       "      <td>1017268</td>\n",
       "      <td>19,10,299.00</td>\n",
       "      <td>16.67</td>\n",
       "      <td>32.91</td>\n",
       "      <td>49.58</td>\n",
       "      <td>190.94</td>\n",
       "      <td>16.85417</td>\n",
       "      <td>22.13333</td>\n",
       "      <td>60.87083</td>\n",
       "      <td>1.36</td>\n",
       "    </tr>\n",
       "    <tr>\n",
       "      <th>1</th>\n",
       "      <td>3-12-2021</td>\n",
       "      <td>893417</td>\n",
       "      <td>1017936</td>\n",
       "      <td>19,11,353.00</td>\n",
       "      <td>17.01</td>\n",
       "      <td>40.86</td>\n",
       "      <td>57.87</td>\n",
       "      <td>188.53</td>\n",
       "      <td>16.68750</td>\n",
       "      <td>22.28750</td>\n",
       "      <td>59.48750</td>\n",
       "      <td>1.38</td>\n",
       "    </tr>\n",
       "    <tr>\n",
       "      <th>2</th>\n",
       "      <td>3-13-2021</td>\n",
       "      <td>893688</td>\n",
       "      <td>1018497</td>\n",
       "      <td>19,12,185.00</td>\n",
       "      <td>12.78</td>\n",
       "      <td>24.11</td>\n",
       "      <td>36.89</td>\n",
       "      <td>187.79</td>\n",
       "      <td>15.48333</td>\n",
       "      <td>20.58750</td>\n",
       "      <td>61.01250</td>\n",
       "      <td>1.34</td>\n",
       "    </tr>\n",
       "    <tr>\n",
       "      <th>3</th>\n",
       "      <td>3-14-2021</td>\n",
       "      <td>893938</td>\n",
       "      <td>1019104</td>\n",
       "      <td>19,13,042.00</td>\n",
       "      <td>11.35</td>\n",
       "      <td>25.13</td>\n",
       "      <td>36.48</td>\n",
       "      <td>203.11</td>\n",
       "      <td>14.90417</td>\n",
       "      <td>19.44583</td>\n",
       "      <td>64.17917</td>\n",
       "      <td>1.33</td>\n",
       "    </tr>\n",
       "    <tr>\n",
       "      <th>4</th>\n",
       "      <td>3-15-2021</td>\n",
       "      <td>894228</td>\n",
       "      <td>1019753</td>\n",
       "      <td>19,13,981.00</td>\n",
       "      <td>12.41</td>\n",
       "      <td>28.01</td>\n",
       "      <td>40.42</td>\n",
       "      <td>201.41</td>\n",
       "      <td>15.45000</td>\n",
       "      <td>20.41667</td>\n",
       "      <td>62.30833</td>\n",
       "      <td>1.36</td>\n",
       "    </tr>\n",
       "    <tr>\n",
       "      <th>...</th>\n",
       "      <td>...</td>\n",
       "      <td>...</td>\n",
       "      <td>...</td>\n",
       "      <td>...</td>\n",
       "      <td>...</td>\n",
       "      <td>...</td>\n",
       "      <td>...</td>\n",
       "      <td>...</td>\n",
       "      <td>...</td>\n",
       "      <td>...</td>\n",
       "      <td>...</td>\n",
       "      <td>...</td>\n",
       "    </tr>\n",
       "    <tr>\n",
       "      <th>216</th>\n",
       "      <td>10-24-2021</td>\n",
       "      <td>1087109</td>\n",
       "      <td>1230695</td>\n",
       "      <td>23,17,804.00</td>\n",
       "      <td>60.47</td>\n",
       "      <td>44.27</td>\n",
       "      <td>104.74</td>\n",
       "      <td>284.84</td>\n",
       "      <td>20.27083</td>\n",
       "      <td>25.30833</td>\n",
       "      <td>64.73333</td>\n",
       "      <td>1.43</td>\n",
       "    </tr>\n",
       "    <tr>\n",
       "      <th>217</th>\n",
       "      <td>10-28-2021</td>\n",
       "      <td>1092800</td>\n",
       "      <td>1234695</td>\n",
       "      <td>23,27,495.00</td>\n",
       "      <td>60.94</td>\n",
       "      <td>42.08</td>\n",
       "      <td>103.02</td>\n",
       "      <td>275.45</td>\n",
       "      <td>19.74583</td>\n",
       "      <td>24.81667</td>\n",
       "      <td>64.28750</td>\n",
       "      <td>1.44</td>\n",
       "    </tr>\n",
       "    <tr>\n",
       "      <th>218</th>\n",
       "      <td>10-29-2021</td>\n",
       "      <td>1094390</td>\n",
       "      <td>1235605</td>\n",
       "      <td>23,29,995.00</td>\n",
       "      <td>66.20</td>\n",
       "      <td>68.03</td>\n",
       "      <td>134.23</td>\n",
       "      <td>280.27</td>\n",
       "      <td>19.70833</td>\n",
       "      <td>24.03750</td>\n",
       "      <td>68.36250</td>\n",
       "      <td>1.44</td>\n",
       "    </tr>\n",
       "    <tr>\n",
       "      <th>219</th>\n",
       "      <td>10-30-2021</td>\n",
       "      <td>1095826</td>\n",
       "      <td>1236572</td>\n",
       "      <td>23,32,398.00</td>\n",
       "      <td>60.01</td>\n",
       "      <td>42.14</td>\n",
       "      <td>102.15</td>\n",
       "      <td>280.30</td>\n",
       "      <td>20.27500</td>\n",
       "      <td>25.01250</td>\n",
       "      <td>66.60417</td>\n",
       "      <td>1.47</td>\n",
       "    </tr>\n",
       "    <tr>\n",
       "      <th>220</th>\n",
       "      <td>10-31-2021</td>\n",
       "      <td>1097313</td>\n",
       "      <td>1237325</td>\n",
       "      <td>23,34,638.00</td>\n",
       "      <td>62.26</td>\n",
       "      <td>33.13</td>\n",
       "      <td>95.39</td>\n",
       "      <td>286.39</td>\n",
       "      <td>19.77500</td>\n",
       "      <td>24.27083</td>\n",
       "      <td>67.35417</td>\n",
       "      <td>1.44</td>\n",
       "    </tr>\n",
       "  </tbody>\n",
       "</table>\n",
       "<p>221 rows × 12 columns</p>\n",
       "</div>"
      ],
      "text/plain": [
       "           Date  Chiller Energy 2019 (kWh)  PAC Energy 2019 (kWh)  \\\n",
       "0     3-11-2021                     893031                1017268   \n",
       "1     3-12-2021                     893417                1017936   \n",
       "2     3-13-2021                     893688                1018497   \n",
       "3     3-14-2021                     893938                1019104   \n",
       "4     3-15-2021                     894228                1019753   \n",
       "..          ...                        ...                    ...   \n",
       "216  10-24-2021                    1087109                1230695   \n",
       "217  10-28-2021                    1092800                1234695   \n",
       "218  10-29-2021                    1094390                1235605   \n",
       "219  10-30-2021                    1095826                1236572   \n",
       "220  10-31-2021                    1097313                1237325   \n",
       "\n",
       "    Cooling Energy 2019 (kWh)  Chiller Load 2019 (kW)  PAC Load 2019 (kW)  \\\n",
       "0                19,10,299.00                   16.67               32.91   \n",
       "1                19,11,353.00                   17.01               40.86   \n",
       "2                19,12,185.00                   12.78               24.11   \n",
       "3                19,13,042.00                   11.35               25.13   \n",
       "4                19,13,981.00                   12.41               28.01   \n",
       "..                        ...                     ...                 ...   \n",
       "216              23,17,804.00                   60.47               44.27   \n",
       "217              23,27,495.00                   60.94               42.08   \n",
       "218              23,29,995.00                   66.20               68.03   \n",
       "219              23,32,398.00                   60.01               42.14   \n",
       "220              23,34,638.00                   62.26               33.13   \n",
       "\n",
       "     Cooling Load 2019 (kW)  IT Load 2019 (kW)   WBT (C)  Temp (C)  Humidity  \\\n",
       "0                     49.58             190.94  16.85417  22.13333  60.87083   \n",
       "1                     57.87             188.53  16.68750  22.28750  59.48750   \n",
       "2                     36.89             187.79  15.48333  20.58750  61.01250   \n",
       "3                     36.48             203.11  14.90417  19.44583  64.17917   \n",
       "4                     40.42             201.41  15.45000  20.41667  62.30833   \n",
       "..                      ...                ...       ...       ...       ...   \n",
       "216                  104.74             284.84  20.27083  25.30833  64.73333   \n",
       "217                  103.02             275.45  19.74583  24.81667  64.28750   \n",
       "218                  134.23             280.27  19.70833  24.03750  68.36250   \n",
       "219                  102.15             280.30  20.27500  25.01250  66.60417   \n",
       "220                   95.39             286.39  19.77500  24.27083  67.35417   \n",
       "\n",
       "     PUE (2019)  \n",
       "0          1.36  \n",
       "1          1.38  \n",
       "2          1.34  \n",
       "3          1.33  \n",
       "4          1.36  \n",
       "..          ...  \n",
       "216        1.43  \n",
       "217        1.44  \n",
       "218        1.44  \n",
       "219        1.47  \n",
       "220        1.44  \n",
       "\n",
       "[221 rows x 12 columns]"
      ]
     },
     "execution_count": 4,
     "metadata": {},
     "output_type": "execute_result"
    }
   ],
   "source": [
    "df3 = pd.read_csv('/kaggle/input/2019-new/2019_new.csv')\n",
    "df3"
   ]
  },
  {
   "cell_type": "markdown",
   "id": "956d1367",
   "metadata": {
    "_cell_guid": "940d9f1e-efed-43b0-aad7-4e9bd71f76ac",
    "_uuid": "4015910c-29c9-4bbd-8240-ea47f259af7f",
    "papermill": {
     "duration": 0.007477,
     "end_time": "2022-11-21T19:41:13.459519",
     "exception": false,
     "start_time": "2022-11-21T19:41:13.452042",
     "status": "completed"
    },
    "tags": []
   },
   "source": [
    "# Multi Regression Model for 2022 dataset\n",
    "* X variables : Cooling Load, IT Load, WBT, Temp, Humidity\n",
    "* y variable : PUE"
   ]
  },
  {
   "cell_type": "code",
   "execution_count": 5,
   "id": "070bc0fc",
   "metadata": {
    "_cell_guid": "675e1295-adb7-403b-bded-4b1f65f4d6c3",
    "_uuid": "7ccc6893-8b97-4614-aa0b-1efa405b7a68",
    "collapsed": false,
    "execution": {
     "iopub.execute_input": "2022-11-21T19:41:13.475522Z",
     "iopub.status.busy": "2022-11-21T19:41:13.475160Z",
     "iopub.status.idle": "2022-11-21T19:41:13.576539Z",
     "shell.execute_reply": "2022-11-21T19:41:13.575686Z"
    },
    "jupyter": {
     "outputs_hidden": false
    },
    "papermill": {
     "duration": 0.112283,
     "end_time": "2022-11-21T19:41:13.579050",
     "exception": false,
     "start_time": "2022-11-21T19:41:13.466767",
     "status": "completed"
    },
    "tags": []
   },
   "outputs": [
    {
     "name": "stdout",
     "output_type": "stream",
     "text": [
      "[ 0.00114775 -0.00085137  0.00609306 -0.00675482 -0.00039408]\n",
      "Training score : 20.16084236485178%\n",
      "Test r2 score : 0.17966729053207597\n"
     ]
    }
   ],
   "source": [
    "from sklearn.model_selection import train_test_split\n",
    "X_train1, X_test1, y_train1, y_test1 = train_test_split(r1,r2,test_size=0.1)\n",
    "\n",
    "from sklearn.linear_model import LinearRegression\n",
    "lm1 = LinearRegression(normalize=True)\n",
    "lm1 = lm1.fit(X_train1,y_train1)\n",
    "y_pred1 = lm1.predict(X_test1)\n",
    "print (lm1.coef_)\n",
    "print (\"Training score : \"+str(lm1.score(X_train1, y_train1)*100) + \"%\")\n",
    "print (\"Test r2 score : \"+str(r2_score(y_test1,y_pred1)))"
   ]
  },
  {
   "cell_type": "markdown",
   "id": "5914e686",
   "metadata": {
    "_cell_guid": "074bf4ca-3a23-444a-85c1-15663ea5d91c",
    "_uuid": "ce2822af-d078-4a2d-8905-76a5ff63f482",
    "papermill": {
     "duration": 0.006583,
     "end_time": "2022-11-21T19:41:13.592851",
     "exception": false,
     "start_time": "2022-11-21T19:41:13.586268",
     "status": "completed"
    },
    "tags": []
   },
   "source": [
    "# Random Forest Model for 2022 dataset\n",
    "* X variables : Chiller Load, PAC Load, Cooling Load, IT Load, WBT, Temp, Humidity\n",
    "* y variable : PUE"
   ]
  },
  {
   "cell_type": "code",
   "execution_count": 6,
   "id": "de5c2223",
   "metadata": {
    "_cell_guid": "05dd9793-4371-411c-b14a-2ddf04e771d8",
    "_uuid": "96b9f6b5-cc93-430e-9d03-465264d03099",
    "collapsed": false,
    "execution": {
     "iopub.execute_input": "2022-11-21T19:41:13.608444Z",
     "iopub.status.busy": "2022-11-21T19:41:13.608075Z",
     "iopub.status.idle": "2022-11-21T19:41:13.931288Z",
     "shell.execute_reply": "2022-11-21T19:41:13.929961Z"
    },
    "jupyter": {
     "outputs_hidden": false
    },
    "papermill": {
     "duration": 0.334611,
     "end_time": "2022-11-21T19:41:13.934462",
     "exception": false,
     "start_time": "2022-11-21T19:41:13.599851",
     "status": "completed"
    },
    "tags": []
   },
   "outputs": [
    {
     "name": "stdout",
     "output_type": "stream",
     "text": [
      "Training score : 88.1773874765641%\n",
      "Test r2 score : 0.2807338212635183\n"
     ]
    }
   ],
   "source": [
    "r1_ = df1[[\"Chiller Load 2022 (kW)\",\"PAC Load 2022 (kW)\",\"Cooling Load 2022 (kW)\",\"IT Load 2022 (kW)\",\"WBT (C)\",\"Temp (C)\",\"Humidity\"]]\n",
    "r2_ = df1[\"PUE (2022)\"]\n",
    "\n",
    "from sklearn.model_selection import train_test_split\n",
    "X_train1_, X_test1_, y_train1_, y_test1_ = train_test_split(r1_,r2_,test_size=0.1)\n",
    "\n",
    "from sklearn.ensemble import RandomForestRegressor as rf\n",
    "regressor1 = rf(n_estimators = 100, random_state = 9)\n",
    "regressor1.fit(X_train1_, y_train1_)\n",
    "y_pred1_ = regressor1.predict(X_test1_)\n",
    "print (\"Training score : \"+str(regressor1.score(X_train1_, y_train1_)*100) + \"%\")\n",
    "print (\"Test r2 score : \"+str(r2_score(y_test1_,y_pred1_)))"
   ]
  },
  {
   "cell_type": "markdown",
   "id": "98a4ee74",
   "metadata": {
    "_cell_guid": "47204165-113e-4262-9e8b-dbac767ba76b",
    "_uuid": "5148c45c-792d-4e3f-9cf1-5c84763d05d0",
    "papermill": {
     "duration": 0.006565,
     "end_time": "2022-11-21T19:41:13.948823",
     "exception": false,
     "start_time": "2022-11-21T19:41:13.942258",
     "status": "completed"
    },
    "tags": []
   },
   "source": [
    "# Non Linear Model (using xgboost) for 2022 dataset\n",
    "* X variables : Chiller Load 2022 (kW), PAC Load 2022 (kW), Cooling Load, IT Load, WBT, Temp, Humidity\n",
    "* y variable : PUE"
   ]
  },
  {
   "cell_type": "code",
   "execution_count": 7,
   "id": "08b9d9b2",
   "metadata": {
    "_cell_guid": "4200ca9c-8c74-4c5d-b762-0c18a09c843c",
    "_uuid": "40236176-8f0d-4d3f-9a41-36214bafa010",
    "collapsed": false,
    "execution": {
     "iopub.execute_input": "2022-11-21T19:41:13.964465Z",
     "iopub.status.busy": "2022-11-21T19:41:13.964121Z",
     "iopub.status.idle": "2022-11-21T19:41:14.429339Z",
     "shell.execute_reply": "2022-11-21T19:41:14.427932Z"
    },
    "jupyter": {
     "outputs_hidden": false
    },
    "papermill": {
     "duration": 0.475631,
     "end_time": "2022-11-21T19:41:14.431343",
     "exception": false,
     "start_time": "2022-11-21T19:41:13.955712",
     "status": "completed"
    },
    "tags": []
   },
   "outputs": [
    {
     "name": "stdout",
     "output_type": "stream",
     "text": [
      "Mean squared error: 0.002402797269707471\n",
      "R2 score: 0.06656659977008872\n"
     ]
    },
    {
     "data": {
      "image/png": "[encoded data removed]",
      "text/plain": [
       "<Figure size 432x288 with 1 Axes>"
      ]
     },
     "metadata": {
      "needs_background": "light"
     },
     "output_type": "display_data"
    }
   ],
   "source": [
    "from sklearn.model_selection import train_test_split\n",
    "X_train1__, X_test1__, y_train1__, y_test1__ = train_test_split(r1_,r2_,test_size=0.3)\n",
    "\n",
    "estimator = xgboost.XGBRegressor(objective=\"reg:squaredlogerror\")\n",
    "estimator.fit(X_train1__, y_train1__)\n",
    "predictions = estimator.predict(X_test1__)\n",
    "df_ = pandas.DataFrame({\"ACTUAL\": y_test1__, \"PREDICTED\": predictions})\n",
    "df_.sort_values(\"ACTUAL\").reset_index()[[\"ACTUAL\", \"PREDICTED\"]].plot()\n",
    "print(f\"Mean squared error: {mean_squared_error(y_test1__.values, predictions)}\")\n",
    "print(f\"R2 score: {r2_score(y_test1__.values, predictions)}\")"
   ]
  },
  {
   "cell_type": "markdown",
   "id": "caf30cf7",
   "metadata": {
    "_cell_guid": "55ab3774-b072-4cdb-a1b7-1e0760829017",
    "_uuid": "bf92a9ab-04ba-46b7-b72a-a69fd3ddc0bc",
    "papermill": {
     "duration": 0.006548,
     "end_time": "2022-11-21T19:41:14.445244",
     "exception": false,
     "start_time": "2022-11-21T19:41:14.438696",
     "status": "completed"
    },
    "tags": []
   },
   "source": [
    "# Multi Reg Model for 2021 dataset\n",
    "* X variables : Cooling Load, IT Load, WBT, Temp, Humidity\n",
    "* y variable : PUE"
   ]
  },
  {
   "cell_type": "code",
   "execution_count": 8,
   "id": "3c6e8cd4",
   "metadata": {
    "_cell_guid": "25b92fb8-2a9f-4c62-9a00-4cea37ce5b0a",
    "_uuid": "f8d2c076-5cc6-401e-81ea-5234cfaee42a",
    "collapsed": false,
    "execution": {
     "iopub.execute_input": "2022-11-21T19:41:14.460541Z",
     "iopub.status.busy": "2022-11-21T19:41:14.460215Z",
     "iopub.status.idle": "2022-11-21T19:41:14.475124Z",
     "shell.execute_reply": "2022-11-21T19:41:14.473400Z"
    },
    "jupyter": {
     "outputs_hidden": false
    },
    "papermill": {
     "duration": 0.026005,
     "end_time": "2022-11-21T19:41:14.478142",
     "exception": false,
     "start_time": "2022-11-21T19:41:14.452137",
     "status": "completed"
    },
    "tags": []
   },
   "outputs": [
    {
     "name": "stdout",
     "output_type": "stream",
     "text": [
      "[ 0.00068027 -0.00109428  0.01673229 -0.00928101 -0.00275455]\n",
      "Training score : 64.48412178669778%\n",
      "Test r2 score : 0.10651974170384826\n"
     ]
    }
   ],
   "source": [
    "r3 = df2[[\"Cooling Load 2021 (kW)\",\"IT Load 2021 (kW)\",\"WBT (C)\",\"Temp (C)\",\"Humidity\"]]\n",
    "r4 = df2[\"PUE (2021)\"]\n",
    "from sklearn.model_selection import train_test_split\n",
    "X_train2, X_test2, y_train2, y_test2 = train_test_split(r3,r4,test_size=0.1)\n",
    "from sklearn.linear_model import LinearRegression\n",
    "lm2 = LinearRegression(normalize=True)\n",
    "lm2 = lm2.fit(X_train2,y_train2)\n",
    "y_pred2 = lm2.predict(X_test2)\n",
    "print (lm2.coef_)\n",
    "print (\"Training score : \"+str(lm2.score(X_train2, y_train2)*100) + \"%\")\n",
    "print (\"Test r2 score : \"+str(r2_score(y_test2,y_pred2)))"
   ]
  },
  {
   "cell_type": "markdown",
   "id": "74892e76",
   "metadata": {
    "_cell_guid": "eac07586-6e62-41b2-8d3c-14dea32c40d7",
    "_uuid": "bc31eed2-830e-4902-aeb1-e302b1a091d3",
    "papermill": {
     "duration": 0.006796,
     "end_time": "2022-11-21T19:41:14.492364",
     "exception": false,
     "start_time": "2022-11-21T19:41:14.485568",
     "status": "completed"
    },
    "tags": []
   },
   "source": [
    "# Random Forest Model for 2021 dataset\n",
    "* X variables : Chiller Load, PAC Load, Cooling Load, IT Load, WBT, Temp, Humidity\n",
    "* y variable : PUE"
   ]
  },
  {
   "cell_type": "code",
   "execution_count": 9,
   "id": "b52fb099",
   "metadata": {
    "_cell_guid": "a77e4463-edea-4b63-b416-4ec281c30ce3",
    "_uuid": "8b2cb9ab-c795-49ed-9f3c-04fd45698332",
    "collapsed": false,
    "execution": {
     "iopub.execute_input": "2022-11-21T19:41:14.508209Z",
     "iopub.status.busy": "2022-11-21T19:41:14.507857Z",
     "iopub.status.idle": "2022-11-21T19:41:14.676811Z",
     "shell.execute_reply": "2022-11-21T19:41:14.674837Z"
    },
    "jupyter": {
     "outputs_hidden": false
    },
    "papermill": {
     "duration": 0.180244,
     "end_time": "2022-11-21T19:41:14.679707",
     "exception": false,
     "start_time": "2022-11-21T19:41:14.499463",
     "status": "completed"
    },
    "tags": []
   },
   "outputs": [
    {
     "name": "stdout",
     "output_type": "stream",
     "text": [
      "Training score : 85.72071969403852%\n",
      "Test r2 score : 0.206387181164158\n"
     ]
    }
   ],
   "source": [
    "r3_ = df2[[\"Chiller Load 2021 (kW)\",\"PAC Load 2021 (kW)\",\"Cooling Load 2021 (kW)\",\"IT Load 2021 (kW)\",\"WBT (C)\",\"Temp (C)\",\"Humidity\"]]\n",
    "r4_ = df2[\"PUE (2021)\"]\n",
    "from sklearn.model_selection import train_test_split\n",
    "X_train2_, X_test2_, y_train2_, y_test2_ = train_test_split(r3_,r4_,test_size=0.1)\n",
    "from sklearn.ensemble import RandomForestRegressor as rf\n",
    "regressor2 = rf(n_estimators = 100, random_state = 9)\n",
    "regressor2.fit(X_train2_, y_train2_)\n",
    "y_pred2_ = regressor2.predict(X_test2_)\n",
    "print (\"Training score : \"+str(regressor2.score(X_train2_, y_train2_)*100) + \"%\")\n",
    "print (\"Test r2 score : \"+str(r2_score(y_test2_,y_pred2_)))"
   ]
  },
  {
   "cell_type": "markdown",
   "id": "78120336",
   "metadata": {
    "_cell_guid": "90b6135e-f933-48bc-ad67-aa61b9eabe41",
    "_uuid": "461cedd0-edea-4666-93cc-c56756eae451",
    "papermill": {
     "duration": 0.007022,
     "end_time": "2022-11-21T19:41:14.694762",
     "exception": false,
     "start_time": "2022-11-21T19:41:14.687740",
     "status": "completed"
    },
    "tags": []
   },
   "source": [
    "# Non Linear Model (using xgboost) for 2021 dataset\n",
    "* X variables : Chiller Load, PAC Load, Cooling Load, IT Load, WBT, Temp, Humidity\n",
    "* y variable : PUE"
   ]
  },
  {
   "cell_type": "code",
   "execution_count": 10,
   "id": "97b4f725",
   "metadata": {
    "_cell_guid": "4047aee9-e2df-4e08-8890-060a30c14925",
    "_uuid": "f45cf586-dcc1-471a-b084-5d00b8020bb3",
    "collapsed": false,
    "execution": {
     "iopub.execute_input": "2022-11-21T19:41:14.711443Z",
     "iopub.status.busy": "2022-11-21T19:41:14.711089Z",
     "iopub.status.idle": "2022-11-21T19:41:15.040753Z",
     "shell.execute_reply": "2022-11-21T19:41:15.039640Z"
    },
    "jupyter": {
     "outputs_hidden": false
    },
    "papermill": {
     "duration": 0.341068,
     "end_time": "2022-11-21T19:41:15.043186",
     "exception": false,
     "start_time": "2022-11-21T19:41:14.702118",
     "status": "completed"
    },
    "tags": []
   },
   "outputs": [
    {
     "name": "stdout",
     "output_type": "stream",
     "text": [
      "Mean squared error: 0.00037278564859473666\n",
      "R2 score: 0.3551222756487401\n"
     ]
    },
    {
     "data": {
      "image/png": "[encoded data removed]",
      "text/plain": [
       "<Figure size 432x288 with 1 Axes>"
      ]
     },
     "metadata": {
      "needs_background": "light"
     },
     "output_type": "display_data"
    }
   ],
   "source": [
    "estimator2 = xgboost.XGBRegressor(objective=\"reg:squaredlogerror\")\n",
    "estimator2.fit(X_train2_, y_train2_)\n",
    "predictions2 = estimator2.predict(X_test2_)\n",
    "df__ = pandas.DataFrame({\"ACTUAL\": y_test2_, \"PREDICTED\": predictions2})\n",
    "# Show the actual vs predicted\n",
    "df__.sort_values(\"ACTUAL\").reset_index()[[\"ACTUAL\", \"PREDICTED\"]].plot()\n",
    "print(f\"Mean squared error: {mean_squared_error(y_test2_.values, predictions2)}\")\n",
    "print(f\"R2 score: {r2_score(y_test2_.values, predictions2)}\")"
   ]
  },
  {
   "cell_type": "markdown",
   "id": "c75b8a8b",
   "metadata": {
    "_cell_guid": "f78d018f-3335-4647-b156-0a64786fdced",
    "_uuid": "bcf13761-8149-4df8-b66f-94547efe7305",
    "papermill": {
     "duration": 0.007352,
     "end_time": "2022-11-21T19:41:15.058571",
     "exception": false,
     "start_time": "2022-11-21T19:41:15.051219",
     "status": "completed"
    },
    "tags": []
   },
   "source": [
    "# Multi Reg Model for 2019 dataset\n",
    "* X variables : Cooling Load, IT Load, WBT, Temp, Humidity\n",
    "* y variable : PUE"
   ]
  },
  {
   "cell_type": "code",
   "execution_count": 11,
   "id": "932686d1",
   "metadata": {
    "_cell_guid": "82e8eb94-8921-4019-b24a-4cdf1f238d09",
    "_uuid": "9f966115-7d02-4c01-8d9e-31d4508ac277",
    "collapsed": false,
    "execution": {
     "iopub.execute_input": "2022-11-21T19:41:15.075582Z",
     "iopub.status.busy": "2022-11-21T19:41:15.074532Z",
     "iopub.status.idle": "2022-11-21T19:41:15.090587Z",
     "shell.execute_reply": "2022-11-21T19:41:15.089386Z"
    },
    "jupyter": {
     "outputs_hidden": false
    },
    "papermill": {
     "duration": 0.026582,
     "end_time": "2022-11-21T19:41:15.092657",
     "exception": false,
     "start_time": "2022-11-21T19:41:15.066075",
     "status": "completed"
    },
    "tags": []
   },
   "outputs": [
    {
     "name": "stdout",
     "output_type": "stream",
     "text": [
      "[ 0.00241697 -0.00356273 -0.02034223  0.02565063  0.01161599]\n",
      "Training score : 82.02118577586955%\n",
      "Test r2 score : 0.8581648627294914\n"
     ]
    }
   ],
   "source": [
    "r5 = df3[[\"Cooling Load 2019 (kW)\",\"IT Load 2019 (kW)\",\"WBT (C)\",\"Temp (C)\",\"Humidity\"]]\n",
    "r6 = df3[\"PUE (2019)\"]\n",
    "from sklearn.model_selection import train_test_split\n",
    "X_train3, X_test3, y_train3, y_test3 = train_test_split(r5,r6,test_size=0.1)\n",
    "from sklearn.linear_model import LinearRegression\n",
    "lm3 = LinearRegression(normalize=True)\n",
    "lm3 = lm3.fit(X_train3,y_train3)\n",
    "y_pred3 = lm3.predict(X_test3)\n",
    "print (lm3.coef_)\n",
    "print (\"Training score : \"+str(lm3.score(X_train3, y_train3)*100) + \"%\")\n",
    "print (\"Test r2 score : \"+str(r2_score(y_test3,y_pred3)))"
   ]
  },
  {
   "cell_type": "markdown",
   "id": "d1649657",
   "metadata": {
    "_cell_guid": "d7955c4c-e815-4c98-9d58-709ee499df2c",
    "_uuid": "d8ba56b5-effd-4b1c-b323-c8ea539b5576",
    "papermill": {
     "duration": 0.007328,
     "end_time": "2022-11-21T19:41:15.107898",
     "exception": false,
     "start_time": "2022-11-21T19:41:15.100570",
     "status": "completed"
    },
    "tags": []
   },
   "source": [
    "# Random Forest Model for 2019 dataset\n",
    "* X variables : Cooling Load, IT Load, WBT, Temp, Humidity\n",
    "* y variable : PUE"
   ]
  },
  {
   "cell_type": "code",
   "execution_count": 12,
   "id": "d4bce795",
   "metadata": {
    "_cell_guid": "15a4e369-9685-414b-8934-f9f7fd34efd2",
    "_uuid": "f943b842-e45a-417d-9f96-08b9a8faf284",
    "collapsed": false,
    "execution": {
     "iopub.execute_input": "2022-11-21T19:41:15.124980Z",
     "iopub.status.busy": "2022-11-21T19:41:15.124612Z",
     "iopub.status.idle": "2022-11-21T19:41:15.286664Z",
     "shell.execute_reply": "2022-11-21T19:41:15.284883Z"
    },
    "jupyter": {
     "outputs_hidden": false
    },
    "papermill": {
     "duration": 0.173989,
     "end_time": "2022-11-21T19:41:15.289563",
     "exception": false,
     "start_time": "2022-11-21T19:41:15.115574",
     "status": "completed"
    },
    "tags": []
   },
   "outputs": [
    {
     "name": "stdout",
     "output_type": "stream",
     "text": [
      "Training score : 99.24127173890952%\n",
      "Test r2 score : 0.7557544957502857\n"
     ]
    }
   ],
   "source": [
    "r5 = df3[[\"Cooling Load 2019 (kW)\",\"IT Load 2019 (kW)\",\"WBT (C)\",\"Temp (C)\",\"Humidity\"]]\n",
    "r6 = df3[\"PUE (2019)\"]\n",
    "from sklearn.model_selection import train_test_split\n",
    "X_train3_, X_test3_, y_train3_, y_test3_ = train_test_split(r5,r6,test_size=0.1)\n",
    "from sklearn.ensemble import RandomForestRegressor as rf\n",
    "regressor3 = rf(n_estimators = 100, random_state = 9)\n",
    "regressor3.fit(X_train3_, y_train3_)\n",
    "y_pred3_ = regressor3.predict(X_test3_)\n",
    "print (\"Training score : \"+str(regressor3.score(X_train3_, y_train3_)*100) + \"%\")\n",
    "print (\"Test r2 score : \"+str(r2_score(y_test3_,y_pred3_)))"
   ]
  },
  {
   "cell_type": "markdown",
   "id": "86d22d80",
   "metadata": {
    "_cell_guid": "86a0c0f7-45d5-46dc-be3a-4b889b7ee0e7",
    "_uuid": "dea9e590-153e-439f-85c3-0947d4d9625c",
    "papermill": {
     "duration": 0.007828,
     "end_time": "2022-11-21T19:41:15.305524",
     "exception": false,
     "start_time": "2022-11-21T19:41:15.297696",
     "status": "completed"
    },
    "tags": []
   },
   "source": [
    "# Non Linear Model (using xgboost) for 2019 dataset\n",
    "* X variables : Chiller Load, PAC Load, Cooling Load, IT Load, WBT, Temp, Humidity\n",
    "* y variable : PUE"
   ]
  },
  {
   "cell_type": "code",
   "execution_count": 13,
   "id": "ee452560",
   "metadata": {
    "_cell_guid": "31801c78-830d-4df5-9870-83f5a0b05c12",
    "_uuid": "5aaf9e07-cc85-48a1-a7b9-a0ade828c3b0",
    "collapsed": false,
    "execution": {
     "iopub.execute_input": "2022-11-21T19:41:15.324038Z",
     "iopub.status.busy": "2022-11-21T19:41:15.322810Z",
     "iopub.status.idle": "2022-11-21T19:41:15.655362Z",
     "shell.execute_reply": "2022-11-21T19:41:15.654049Z"
    },
    "jupyter": {
     "outputs_hidden": false
    },
    "papermill": {
     "duration": 0.344021,
     "end_time": "2022-11-21T19:41:15.657621",
     "exception": false,
     "start_time": "2022-11-21T19:41:15.313600",
     "status": "completed"
    },
    "tags": []
   },
   "outputs": [
    {
     "name": "stdout",
     "output_type": "stream",
     "text": [
      "Mean squared error: 0.027126813045696755\n",
      "R2 score: 0.6901580055107595\n"
     ]
    },
    {
     "data": {
      "image/png": "[encoded data removed]",
      "text/plain": [
       "<Figure size 432x288 with 1 Axes>"
      ]
     },
     "metadata": {
      "needs_background": "light"
     },
     "output_type": "display_data"
    }
   ],
   "source": [
    "r7 = df3[[\"Chiller Load 2019 (kW)\",\"PAC Load 2019 (kW)\",\"Cooling Load 2019 (kW)\",\"IT Load 2019 (kW)\",\"WBT (C)\",\"Temp (C)\",\"Humidity\"]]\n",
    "r8 = df3[\"PUE (2019)\"]\n",
    "X_train, X_test, y_train, y_test = train_test_split(r7,r8,test_size=0.1)\n",
    "estimator = xgboost.XGBRegressor(objective=\"reg:squaredlogerror\")\n",
    "estimator.fit(X_train, y_train)\n",
    "predictions = estimator.predict(X_test)\n",
    "df = pandas.DataFrame({\"ACTUAL\": y_test, \"PREDICTED\": predictions})\n",
    "df.sort_values(\"ACTUAL\").reset_index()[[\"ACTUAL\", \"PREDICTED\"]].plot()\n",
    "print(f\"Mean squared error: {mean_squared_error(y_test.values, predictions)}\")\n",
    "print(f\"R2 score: {r2_score(y_test.values, predictions)}\")"
   ]
  }
 ],
 "metadata": {
  "kernelspec": {
   "display_name": "Python 3",
   "language": "python",
   "name": "python3"
  },
  "language_info": {
   "codemirror_mode": {
    "name": "ipython",
    "version": 3
   },
   "file_extension": ".py",
   "mimetype": "text/x-python",
   "name": "python",
   "nbconvert_exporter": "python",
   "pygments_lexer": "ipython3",
   "version": "3.7.12"
  },
  "papermill": {
   "default_parameters": {},
   "duration": 11.729732,
   "end_time": "2022-11-21T19:41:16.391263",
   "environment_variables": {},
   "exception": null,
   "input_path": "__notebook__.ipynb",
   "output_path": "__notebook__.ipynb",
   "parameters": {},
   "start_time": "2022-11-21T19:41:04.661531",
   "version": "2.3.4"
  }
 },
 "nbformat": 4,
 "nbformat_minor": 5
}
