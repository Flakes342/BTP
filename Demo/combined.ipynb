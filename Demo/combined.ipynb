{
 "cells": [
  {
   "cell_type": "code",
   "execution_count": 1,
   "metadata": {},
   "outputs": [],
   "source": [
    "import pandas as pd\n",
    "import numpy as np\n",
    "import matplotlib.pyplot as plt"
   ]
  },
  {
   "cell_type": "code",
   "execution_count": 2,
   "metadata": {},
   "outputs": [],
   "source": [
    "df1 = pd.read_csv(\"C:/Users/DELL/Downloads/OA Humidity.csv\")\n",
    "df2 = pd.read_csv(\"C:/Users/DELL/Downloads/OA Temp.csv\")\n",
    "df3 = pd.read_csv(\"C:/Users/DELL/Downloads/OA wbt.csv\")"
   ]
  },
  {
   "cell_type": "code",
   "execution_count": 3,
   "metadata": {},
   "outputs": [],
   "source": [
    "df1 = df1.drop(columns = [\"Excel Time\", \"Notes\"])\n",
    "df2 = df2.drop(columns = [\"Excel Time\", \"Notes\"])\n",
    "df3 = df3.drop(columns = [\"Excel Time\", \"Notes\"])"
   ]
  },
  {
   "cell_type": "code",
   "execution_count": 4,
   "metadata": {},
   "outputs": [
    {
     "name": "stderr",
     "output_type": "stream",
     "text": [
      "C:\\Users\\DELL\\AppData\\Local\\Temp\\ipykernel_55340\\3442752515.py:7: SettingWithCopyWarning: \n",
      "A value is trying to be set on a copy of a slice from a DataFrame\n",
      "\n",
      "See the caveats in the documentation: https://pandas.pydata.org/pandas-docs/stable/user_guide/indexing.html#returning-a-view-versus-a-copy\n",
      "  df1[\"Day\"][i] = x1[0]\n",
      "C:\\Users\\DELL\\AppData\\Local\\Temp\\ipykernel_55340\\3442752515.py:10: SettingWithCopyWarning: \n",
      "A value is trying to be set on a copy of a slice from a DataFrame\n",
      "\n",
      "See the caveats in the documentation: https://pandas.pydata.org/pandas-docs/stable/user_guide/indexing.html#returning-a-view-versus-a-copy\n",
      "  df2[\"Day\"][i] = x2[0]\n",
      "C:\\Users\\DELL\\AppData\\Local\\Temp\\ipykernel_55340\\3442752515.py:13: SettingWithCopyWarning: \n",
      "A value is trying to be set on a copy of a slice from a DataFrame\n",
      "\n",
      "See the caveats in the documentation: https://pandas.pydata.org/pandas-docs/stable/user_guide/indexing.html#returning-a-view-versus-a-copy\n",
      "  df3[\"Day\"][i] = x3[0]\n"
     ]
    }
   ],
   "source": [
    "df1[\"Day\"] = df1[\"Value\"]\n",
    "df2[\"Day\"] = df2[\"Value\"]\n",
    "df3[\"Day\"] = df3[\"Value\"]\n",
    "\n",
    "for i in range (len(df1[\"Date\"])):\n",
    "    x1 = df1[\"Date\"][i].split()\n",
    "    df1[\"Day\"][i] = x1[0]\n",
    "\n",
    "    x2 = df2[\"Date\"][i].split()\n",
    "    df2[\"Day\"][i] = x2[0]\n",
    "\n",
    "    x3 = df3[\"Date\"][i].split()\n",
    "    df3[\"Day\"][i] = x3[0]\n",
    "\n",
    "df1 = df1.drop(columns = [\"Date\"])\n",
    "df2 = df2.drop(columns = [\"Date\"])\n",
    "df3 = df3.drop(columns = [\"Date\"])"
   ]
  },
  {
   "cell_type": "code",
   "execution_count": 5,
   "metadata": {},
   "outputs": [],
   "source": [
    "df1.rename(columns = {'Value':'Humidity'}, inplace = True)\n",
    "df2.rename(columns = {'Value':'Temp'}, inplace = True)\n",
    "df3.rename(columns = {'Value':'WBT'}, inplace = True)"
   ]
  },
  {
   "cell_type": "code",
   "execution_count": 6,
   "metadata": {},
   "outputs": [
    {
     "name": "stdout",
     "output_type": "stream",
     "text": [
      "(104773, 2) (104773, 2) (104773, 2)\n"
     ]
    }
   ],
   "source": [
    "print (df1.shape, df2.shape , df3.shape)"
   ]
  },
  {
   "cell_type": "code",
   "execution_count": 7,
   "metadata": {},
   "outputs": [],
   "source": [
    "df1[\"Day\"] = pd.to_datetime(df1[\"Day\"])\n",
    "df1 = df1.groupby(\"Day\").mean()\n",
    "\n",
    "df2[\"Day\"] = pd.to_datetime(df2[\"Day\"])\n",
    "df2 = df2.groupby(\"Day\").mean()\n",
    "\n",
    "df3[\"Day\"] = pd.to_datetime(df3[\"Day\"])\n",
    "df3 = df3.groupby(\"Day\").mean()"
   ]
  },
  {
   "cell_type": "code",
   "execution_count": 8,
   "metadata": {},
   "outputs": [
    {
     "data": {
      "text/html": [
       "<div>\n",
       "<style scoped>\n",
       "    .dataframe tbody tr th:only-of-type {\n",
       "        vertical-align: middle;\n",
       "    }\n",
       "\n",
       "    .dataframe tbody tr th {\n",
       "        vertical-align: top;\n",
       "    }\n",
       "\n",
       "    .dataframe thead th {\n",
       "        text-align: right;\n",
       "    }\n",
       "</style>\n",
       "<table border=\"1\" class=\"dataframe\">\n",
       "  <thead>\n",
       "    <tr style=\"text-align: right;\">\n",
       "      <th></th>\n",
       "      <th>Day</th>\n",
       "      <th>Humidity</th>\n",
       "      <th>Temp</th>\n",
       "      <th>WBT</th>\n",
       "    </tr>\n",
       "  </thead>\n",
       "  <tbody>\n",
       "    <tr>\n",
       "      <th>0</th>\n",
       "      <td>2016-12-15</td>\n",
       "      <td>50.635511</td>\n",
       "      <td>20.077211</td>\n",
       "      <td>13.573652</td>\n",
       "    </tr>\n",
       "    <tr>\n",
       "      <th>1</th>\n",
       "      <td>2016-12-16</td>\n",
       "      <td>57.680686</td>\n",
       "      <td>16.875644</td>\n",
       "      <td>11.864111</td>\n",
       "    </tr>\n",
       "    <tr>\n",
       "      <th>2</th>\n",
       "      <td>2016-12-17</td>\n",
       "      <td>63.330058</td>\n",
       "      <td>16.262500</td>\n",
       "      <td>12.154527</td>\n",
       "    </tr>\n",
       "    <tr>\n",
       "      <th>3</th>\n",
       "      <td>2016-12-18</td>\n",
       "      <td>60.613870</td>\n",
       "      <td>16.005556</td>\n",
       "      <td>11.467712</td>\n",
       "    </tr>\n",
       "    <tr>\n",
       "      <th>4</th>\n",
       "      <td>2016-12-19</td>\n",
       "      <td>61.171113</td>\n",
       "      <td>16.300695</td>\n",
       "      <td>11.795010</td>\n",
       "    </tr>\n",
       "  </tbody>\n",
       "</table>\n",
       "</div>"
      ],
      "text/plain": [
       "         Day   Humidity       Temp        WBT\n",
       "0 2016-12-15  50.635511  20.077211  13.573652\n",
       "1 2016-12-16  57.680686  16.875644  11.864111\n",
       "2 2016-12-17  63.330058  16.262500  12.154527\n",
       "3 2016-12-18  60.613870  16.005556  11.467712\n",
       "4 2016-12-19  61.171113  16.300695  11.795010"
      ]
     },
     "execution_count": 8,
     "metadata": {},
     "output_type": "execute_result"
    }
   ],
   "source": [
    "df = pd.merge(pd.merge(df1,df2,on='Day'),df3,on='Day')\n",
    "\n",
    "df = df.reset_index()\n",
    "\n",
    "df.head()"
   ]
  },
  {
   "cell_type": "code",
   "execution_count": 9,
   "metadata": {},
   "outputs": [
    {
     "data": {
      "text/plain": [
       "(366, 4)"
      ]
     },
     "execution_count": 9,
     "metadata": {},
     "output_type": "execute_result"
    }
   ],
   "source": [
    "df.shape"
   ]
  },
  {
   "cell_type": "code",
   "execution_count": 10,
   "metadata": {},
   "outputs": [
    {
     "data": {
      "image/png": "[encoded data removed]",
      "text/plain": [
       "<Figure size 432x288 with 1 Axes>"
      ]
     },
     "metadata": {
      "needs_background": "light"
     },
     "output_type": "display_data"
    }
   ],
   "source": [
    "plt.plot(df['Day'],df['Humidity'], label = \"Humidity\")\n",
    "plt.plot(df['Day'],df['Temp'], label = \"Temp\")\n",
    "plt.plot(df['Day'],df['WBT'], label = \"WBT\")\n",
    "plt.legend()\n",
    "plt.show()"
   ]
  },
  {
   "cell_type": "code",
   "execution_count": 11,
   "metadata": {},
   "outputs": [],
   "source": [
    "df.to_csv(\"Combined_data\")"
   ]
  }
 ],
 "metadata": {
  "kernelspec": {
   "display_name": "Python 3.9.13 64-bit (windows store)",
   "language": "python",
   "name": "python3"
  },
  "language_info": {
   "codemirror_mode": {
    "name": "ipython",
    "version": 3
   },
   "file_extension": ".py",
   "mimetype": "text/x-python",
   "name": "python",
   "nbconvert_exporter": "python",
   "pygments_lexer": "ipython3",
   "version": "3.9.13"
  },
  "orig_nbformat": 4,
  "vscode": {
   "interpreter": {
    "hash": "970a2a4939579a4c22872227820a264ec023ee5692739211cbaca24386397975"
   }
  }
 },
 "nbformat": 4,
 "nbformat_minor": 2
}
